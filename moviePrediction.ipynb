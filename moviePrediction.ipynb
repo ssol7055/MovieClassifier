{
 "cells": [
  {
   "cell_type": "markdown",
   "metadata": {},
   "source": [
    "# A Naive Bayes Movie Classifier"
   ]
  },
  {
   "cell_type": "markdown",
   "metadata": {},
   "source": [
    "### 0. Import necessary libraries"
   ]
  },
  {
   "cell_type": "code",
   "execution_count": 1,
   "metadata": {},
   "outputs": [],
   "source": [
    "import pandas\n",
    "from pandas import DataFrame\n",
    "\n",
    "import numpy as np\n",
    "\n",
    "import matplotlib.pyplot as plt\n",
    "\n",
    "from sklearn.model_selection import train_test_split\n",
    "from sklearn.naive_bayes import GaussianNB, MultinomialNB\n",
    "from sklearn.metrics import confusion_matrix, f1_score, accuracy_score, recall_score,precision_score\n",
    "\n",
    "import warnings\n",
    "warnings.filterwarnings(\"ignore\")\n",
    "\n",
    "Dataset = pandas.read_csv('./final_data.csv')"
   ]
  },
  {
   "cell_type": "markdown",
   "metadata": {},
   "source": [
    "### 1. Train and Validation data"
   ]
  },
  {
   "cell_type": "code",
   "execution_count": 2,
   "metadata": {},
   "outputs": [
    {
     "data": {
      "text/plain": [
       "(494, 39)"
      ]
     },
     "execution_count": 2,
     "metadata": {},
     "output_type": "execute_result"
    }
   ],
   "source": [
    "Dataset.shape"
   ]
  },
  {
   "cell_type": "code",
   "execution_count": 3,
   "metadata": {},
   "outputs": [
    {
     "data": {
      "text/html": [
       "<div>\n",
       "<style scoped>\n",
       "    .dataframe tbody tr th:only-of-type {\n",
       "        vertical-align: middle;\n",
       "    }\n",
       "\n",
       "    .dataframe tbody tr th {\n",
       "        vertical-align: top;\n",
       "    }\n",
       "\n",
       "    .dataframe thead th {\n",
       "        text-align: right;\n",
       "    }\n",
       "</style>\n",
       "<table border=\"1\" class=\"dataframe\">\n",
       "  <thead>\n",
       "    <tr style=\"text-align: right;\">\n",
       "      <th></th>\n",
       "      <th>Index</th>\n",
       "      <th>Marketing.expense</th>\n",
       "      <th>Production.expense</th>\n",
       "      <th>Multiplex.coverage</th>\n",
       "      <th>Budget</th>\n",
       "      <th>Movie_length</th>\n",
       "      <th>Lead_.Actor_Rating</th>\n",
       "      <th>Lead_Actress_rating</th>\n",
       "      <th>Director_rating</th>\n",
       "      <th>Producer_rating</th>\n",
       "      <th>...</th>\n",
       "      <th>Critic_rating_mms</th>\n",
       "      <th>Trailer_views_mms</th>\n",
       "      <th>X3D_available_mms</th>\n",
       "      <th>Time_taken_mms</th>\n",
       "      <th>Twitter_hastags_mms</th>\n",
       "      <th>Genre_mms</th>\n",
       "      <th>Avg_age_actors_mms</th>\n",
       "      <th>Num_multiplex_mms</th>\n",
       "      <th>Collection_mms</th>\n",
       "      <th>Start_Tech_Oscar_mms</th>\n",
       "    </tr>\n",
       "  </thead>\n",
       "  <tbody>\n",
       "    <tr>\n",
       "      <th>0</th>\n",
       "      <td>1</td>\n",
       "      <td>20.1264</td>\n",
       "      <td>59.62</td>\n",
       "      <td>0.462</td>\n",
       "      <td>36524.125</td>\n",
       "      <td>138.7</td>\n",
       "      <td>7.825</td>\n",
       "      <td>8.095</td>\n",
       "      <td>7.910</td>\n",
       "      <td>7.995</td>\n",
       "      <td>...</td>\n",
       "      <td>0.478571</td>\n",
       "      <td>0.886108</td>\n",
       "      <td>1</td>\n",
       "      <td>0.503862</td>\n",
       "      <td>0.012457</td>\n",
       "      <td>0.000000</td>\n",
       "      <td>0.350877</td>\n",
       "      <td>0.300935</td>\n",
       "      <td>0.422222</td>\n",
       "      <td>1</td>\n",
       "    </tr>\n",
       "    <tr>\n",
       "      <th>1</th>\n",
       "      <td>2</td>\n",
       "      <td>20.5462</td>\n",
       "      <td>69.14</td>\n",
       "      <td>0.531</td>\n",
       "      <td>35668.655</td>\n",
       "      <td>152.4</td>\n",
       "      <td>7.505</td>\n",
       "      <td>7.650</td>\n",
       "      <td>7.440</td>\n",
       "      <td>7.470</td>\n",
       "      <td>...</td>\n",
       "      <td>0.300000</td>\n",
       "      <td>0.792238</td>\n",
       "      <td>0</td>\n",
       "      <td>0.674145</td>\n",
       "      <td>0.023228</td>\n",
       "      <td>0.333333</td>\n",
       "      <td>0.684211</td>\n",
       "      <td>0.241121</td>\n",
       "      <td>0.368889</td>\n",
       "      <td>0</td>\n",
       "    </tr>\n",
       "    <tr>\n",
       "      <th>2</th>\n",
       "      <td>3</td>\n",
       "      <td>20.5458</td>\n",
       "      <td>69.14</td>\n",
       "      <td>0.531</td>\n",
       "      <td>39912.675</td>\n",
       "      <td>134.6</td>\n",
       "      <td>7.485</td>\n",
       "      <td>7.570</td>\n",
       "      <td>7.495</td>\n",
       "      <td>7.515</td>\n",
       "      <td>...</td>\n",
       "      <td>0.300000</td>\n",
       "      <td>0.941576</td>\n",
       "      <td>0</td>\n",
       "      <td>0.679846</td>\n",
       "      <td>1.000000</td>\n",
       "      <td>0.666667</td>\n",
       "      <td>0.614035</td>\n",
       "      <td>0.233645</td>\n",
       "      <td>0.660000</td>\n",
       "      <td>1</td>\n",
       "    </tr>\n",
       "    <tr>\n",
       "      <th>3</th>\n",
       "      <td>4</td>\n",
       "      <td>20.6474</td>\n",
       "      <td>59.36</td>\n",
       "      <td>0.542</td>\n",
       "      <td>38873.890</td>\n",
       "      <td>119.3</td>\n",
       "      <td>6.895</td>\n",
       "      <td>7.035</td>\n",
       "      <td>6.920</td>\n",
       "      <td>7.020</td>\n",
       "      <td>...</td>\n",
       "      <td>0.592857</td>\n",
       "      <td>0.854863</td>\n",
       "      <td>1</td>\n",
       "      <td>0.852152</td>\n",
       "      <td>0.013283</td>\n",
       "      <td>0.333333</td>\n",
       "      <td>0.736842</td>\n",
       "      <td>0.259813</td>\n",
       "      <td>0.631111</td>\n",
       "      <td>1</td>\n",
       "    </tr>\n",
       "    <tr>\n",
       "      <th>4</th>\n",
       "      <td>5</td>\n",
       "      <td>21.3810</td>\n",
       "      <td>59.36</td>\n",
       "      <td>0.542</td>\n",
       "      <td>39701.585</td>\n",
       "      <td>127.7</td>\n",
       "      <td>6.920</td>\n",
       "      <td>7.070</td>\n",
       "      <td>6.815</td>\n",
       "      <td>7.070</td>\n",
       "      <td>...</td>\n",
       "      <td>0.592857</td>\n",
       "      <td>0.897608</td>\n",
       "      <td>0</td>\n",
       "      <td>0.811328</td>\n",
       "      <td>0.013529</td>\n",
       "      <td>0.333333</td>\n",
       "      <td>0.912281</td>\n",
       "      <td>0.115888</td>\n",
       "      <td>0.693333</td>\n",
       "      <td>1</td>\n",
       "    </tr>\n",
       "  </tbody>\n",
       "</table>\n",
       "<p>5 rows × 39 columns</p>\n",
       "</div>"
      ],
      "text/plain": [
       "   Index  Marketing.expense  Production.expense  Multiplex.coverage  \\\n",
       "0      1            20.1264               59.62               0.462   \n",
       "1      2            20.5462               69.14               0.531   \n",
       "2      3            20.5458               69.14               0.531   \n",
       "3      4            20.6474               59.36               0.542   \n",
       "4      5            21.3810               59.36               0.542   \n",
       "\n",
       "      Budget  Movie_length  Lead_.Actor_Rating  Lead_Actress_rating  \\\n",
       "0  36524.125         138.7               7.825                8.095   \n",
       "1  35668.655         152.4               7.505                7.650   \n",
       "2  39912.675         134.6               7.485                7.570   \n",
       "3  38873.890         119.3               6.895                7.035   \n",
       "4  39701.585         127.7               6.920                7.070   \n",
       "\n",
       "   Director_rating  Producer_rating  ...  Critic_rating_mms  \\\n",
       "0            7.910            7.995  ...           0.478571   \n",
       "1            7.440            7.470  ...           0.300000   \n",
       "2            7.495            7.515  ...           0.300000   \n",
       "3            6.920            7.020  ...           0.592857   \n",
       "4            6.815            7.070  ...           0.592857   \n",
       "\n",
       "   Trailer_views_mms  X3D_available_mms  Time_taken_mms  Twitter_hastags_mms  \\\n",
       "0           0.886108                  1        0.503862             0.012457   \n",
       "1           0.792238                  0        0.674145             0.023228   \n",
       "2           0.941576                  0        0.679846             1.000000   \n",
       "3           0.854863                  1        0.852152             0.013283   \n",
       "4           0.897608                  0        0.811328             0.013529   \n",
       "\n",
       "   Genre_mms  Avg_age_actors_mms  Num_multiplex_mms  Collection_mms  \\\n",
       "0   0.000000            0.350877           0.300935        0.422222   \n",
       "1   0.333333            0.684211           0.241121        0.368889   \n",
       "2   0.666667            0.614035           0.233645        0.660000   \n",
       "3   0.333333            0.736842           0.259813        0.631111   \n",
       "4   0.333333            0.912281           0.115888        0.693333   \n",
       "\n",
       "   Start_Tech_Oscar_mms  \n",
       "0                     1  \n",
       "1                     0  \n",
       "2                     1  \n",
       "3                     1  \n",
       "4                     1  \n",
       "\n",
       "[5 rows x 39 columns]"
      ]
     },
     "execution_count": 3,
     "metadata": {},
     "output_type": "execute_result"
    }
   ],
   "source": [
    "Dataset.head()"
   ]
  },
  {
   "cell_type": "code",
   "execution_count": 4,
   "metadata": {},
   "outputs": [],
   "source": [
    "y = Dataset['Start_Tech_Oscar']\n",
    "x = Dataset.drop('Start_Tech_Oscar', axis=1)"
   ]
  },
  {
   "cell_type": "code",
   "execution_count": 5,
   "metadata": {},
   "outputs": [
    {
     "data": {
      "text/plain": [
       "0    1\n",
       "1    0\n",
       "2    1\n",
       "3    1\n",
       "4    1\n",
       "Name: Start_Tech_Oscar, dtype: int64"
      ]
     },
     "execution_count": 5,
     "metadata": {},
     "output_type": "execute_result"
    }
   ],
   "source": [
    "y.head()"
   ]
  },
  {
   "cell_type": "markdown",
   "metadata": {},
   "source": [
    "##### A. Training and Validation data set size\n",
    "- 3:1 ratio for training and validation sets, respectively."
   ]
  },
  {
   "cell_type": "code",
   "execution_count": 6,
   "metadata": {},
   "outputs": [],
   "source": [
    "TrainMov, ValMov, TrainLabel, ValLabel = train_test_split(x,y,\n",
    "test_size=0.25,\n",
    "shuffle=True, \n",
    "random_state=3000)"
   ]
  },
  {
   "cell_type": "code",
   "execution_count": 7,
   "metadata": {},
   "outputs": [
    {
     "data": {
      "text/html": [
       "<div>\n",
       "<style scoped>\n",
       "    .dataframe tbody tr th:only-of-type {\n",
       "        vertical-align: middle;\n",
       "    }\n",
       "\n",
       "    .dataframe tbody tr th {\n",
       "        vertical-align: top;\n",
       "    }\n",
       "\n",
       "    .dataframe thead th {\n",
       "        text-align: right;\n",
       "    }\n",
       "</style>\n",
       "<table border=\"1\" class=\"dataframe\">\n",
       "  <thead>\n",
       "    <tr style=\"text-align: right;\">\n",
       "      <th></th>\n",
       "      <th>Index</th>\n",
       "      <th>Marketing.expense</th>\n",
       "      <th>Production.expense</th>\n",
       "      <th>Multiplex.coverage</th>\n",
       "      <th>Budget</th>\n",
       "      <th>Movie_length</th>\n",
       "      <th>Lead_.Actor_Rating</th>\n",
       "      <th>Lead_Actress_rating</th>\n",
       "      <th>Director_rating</th>\n",
       "      <th>Producer_rating</th>\n",
       "      <th>...</th>\n",
       "      <th>Critic_rating_mms</th>\n",
       "      <th>Trailer_views_mms</th>\n",
       "      <th>X3D_available_mms</th>\n",
       "      <th>Time_taken_mms</th>\n",
       "      <th>Twitter_hastags_mms</th>\n",
       "      <th>Genre_mms</th>\n",
       "      <th>Avg_age_actors_mms</th>\n",
       "      <th>Num_multiplex_mms</th>\n",
       "      <th>Collection_mms</th>\n",
       "      <th>Start_Tech_Oscar_mms</th>\n",
       "    </tr>\n",
       "  </thead>\n",
       "  <tbody>\n",
       "    <tr>\n",
       "      <th>418</th>\n",
       "      <td>429</td>\n",
       "      <td>167.3422</td>\n",
       "      <td>91.20</td>\n",
       "      <td>0.321</td>\n",
       "      <td>34402.115</td>\n",
       "      <td>151.6</td>\n",
       "      <td>8.940</td>\n",
       "      <td>9.070</td>\n",
       "      <td>9.005</td>\n",
       "      <td>9.110</td>\n",
       "      <td>...</td>\n",
       "      <td>0.485714</td>\n",
       "      <td>0.404126</td>\n",
       "      <td>1</td>\n",
       "      <td>0.783376</td>\n",
       "      <td>0.022297</td>\n",
       "      <td>0.000000</td>\n",
       "      <td>0.736842</td>\n",
       "      <td>0.646729</td>\n",
       "      <td>0.133333</td>\n",
       "      <td>0</td>\n",
       "    </tr>\n",
       "    <tr>\n",
       "      <th>246</th>\n",
       "      <td>253</td>\n",
       "      <td>21.6442</td>\n",
       "      <td>66.72</td>\n",
       "      <td>0.569</td>\n",
       "      <td>38646.135</td>\n",
       "      <td>80.3</td>\n",
       "      <td>5.410</td>\n",
       "      <td>5.575</td>\n",
       "      <td>5.450</td>\n",
       "      <td>5.755</td>\n",
       "      <td>...</td>\n",
       "      <td>0.207143</td>\n",
       "      <td>0.905064</td>\n",
       "      <td>0</td>\n",
       "      <td>0.826775</td>\n",
       "      <td>0.023931</td>\n",
       "      <td>1.000000</td>\n",
       "      <td>0.947368</td>\n",
       "      <td>0.117757</td>\n",
       "      <td>0.546667</td>\n",
       "      <td>1</td>\n",
       "    </tr>\n",
       "    <tr>\n",
       "      <th>420</th>\n",
       "      <td>431</td>\n",
       "      <td>189.8426</td>\n",
       "      <td>91.20</td>\n",
       "      <td>0.416</td>\n",
       "      <td>35263.140</td>\n",
       "      <td>159.6</td>\n",
       "      <td>8.860</td>\n",
       "      <td>9.105</td>\n",
       "      <td>8.920</td>\n",
       "      <td>9.005</td>\n",
       "      <td>...</td>\n",
       "      <td>0.128571</td>\n",
       "      <td>0.574365</td>\n",
       "      <td>0</td>\n",
       "      <td>0.835785</td>\n",
       "      <td>0.011623</td>\n",
       "      <td>0.000000</td>\n",
       "      <td>0.877193</td>\n",
       "      <td>0.568224</td>\n",
       "      <td>0.211111</td>\n",
       "      <td>0</td>\n",
       "    </tr>\n",
       "    <tr>\n",
       "      <th>482</th>\n",
       "      <td>494</td>\n",
       "      <td>23.4662</td>\n",
       "      <td>74.38</td>\n",
       "      <td>0.415</td>\n",
       "      <td>31702.385</td>\n",
       "      <td>127.5</td>\n",
       "      <td>8.650</td>\n",
       "      <td>8.865</td>\n",
       "      <td>8.790</td>\n",
       "      <td>8.930</td>\n",
       "      <td>...</td>\n",
       "      <td>0.557143</td>\n",
       "      <td>0.644300</td>\n",
       "      <td>1</td>\n",
       "      <td>0.545789</td>\n",
       "      <td>0.045209</td>\n",
       "      <td>0.000000</td>\n",
       "      <td>0.491228</td>\n",
       "      <td>0.463551</td>\n",
       "      <td>0.373333</td>\n",
       "      <td>0</td>\n",
       "    </tr>\n",
       "    <tr>\n",
       "      <th>359</th>\n",
       "      <td>368</td>\n",
       "      <td>290.4440</td>\n",
       "      <td>91.20</td>\n",
       "      <td>0.369</td>\n",
       "      <td>21458.965</td>\n",
       "      <td>173.5</td>\n",
       "      <td>9.235</td>\n",
       "      <td>9.305</td>\n",
       "      <td>9.230</td>\n",
       "      <td>9.215</td>\n",
       "      <td>...</td>\n",
       "      <td>0.485714</td>\n",
       "      <td>0.714497</td>\n",
       "      <td>0</td>\n",
       "      <td>0.915962</td>\n",
       "      <td>0.012378</td>\n",
       "      <td>0.333333</td>\n",
       "      <td>0.368421</td>\n",
       "      <td>0.422430</td>\n",
       "      <td>0.402222</td>\n",
       "      <td>1</td>\n",
       "    </tr>\n",
       "  </tbody>\n",
       "</table>\n",
       "<p>5 rows × 38 columns</p>\n",
       "</div>"
      ],
      "text/plain": [
       "     Index  Marketing.expense  Production.expense  Multiplex.coverage  \\\n",
       "418    429           167.3422               91.20               0.321   \n",
       "246    253            21.6442               66.72               0.569   \n",
       "420    431           189.8426               91.20               0.416   \n",
       "482    494            23.4662               74.38               0.415   \n",
       "359    368           290.4440               91.20               0.369   \n",
       "\n",
       "        Budget  Movie_length  Lead_.Actor_Rating  Lead_Actress_rating  \\\n",
       "418  34402.115         151.6               8.940                9.070   \n",
       "246  38646.135          80.3               5.410                5.575   \n",
       "420  35263.140         159.6               8.860                9.105   \n",
       "482  31702.385         127.5               8.650                8.865   \n",
       "359  21458.965         173.5               9.235                9.305   \n",
       "\n",
       "     Director_rating  Producer_rating  ...  Critic_rating_mms  \\\n",
       "418            9.005            9.110  ...           0.485714   \n",
       "246            5.450            5.755  ...           0.207143   \n",
       "420            8.920            9.005  ...           0.128571   \n",
       "482            8.790            8.930  ...           0.557143   \n",
       "359            9.230            9.215  ...           0.485714   \n",
       "\n",
       "     Trailer_views_mms  X3D_available_mms  Time_taken_mms  \\\n",
       "418           0.404126                  1        0.783376   \n",
       "246           0.905064                  0        0.826775   \n",
       "420           0.574365                  0        0.835785   \n",
       "482           0.644300                  1        0.545789   \n",
       "359           0.714497                  0        0.915962   \n",
       "\n",
       "     Twitter_hastags_mms  Genre_mms  Avg_age_actors_mms  Num_multiplex_mms  \\\n",
       "418             0.022297   0.000000            0.736842           0.646729   \n",
       "246             0.023931   1.000000            0.947368           0.117757   \n",
       "420             0.011623   0.000000            0.877193           0.568224   \n",
       "482             0.045209   0.000000            0.491228           0.463551   \n",
       "359             0.012378   0.333333            0.368421           0.422430   \n",
       "\n",
       "     Collection_mms  Start_Tech_Oscar_mms  \n",
       "418        0.133333                     0  \n",
       "246        0.546667                     1  \n",
       "420        0.211111                     0  \n",
       "482        0.373333                     0  \n",
       "359        0.402222                     1  \n",
       "\n",
       "[5 rows x 38 columns]"
      ]
     },
     "execution_count": 7,
     "metadata": {},
     "output_type": "execute_result"
    }
   ],
   "source": [
    "TrainMov.head()"
   ]
  },
  {
   "cell_type": "markdown",
   "metadata": {},
   "source": [
    "##### B. Check the splitted data sets\n"
   ]
  },
  {
   "cell_type": "code",
   "execution_count": 8,
   "metadata": {},
   "outputs": [
    {
     "data": {
      "image/png": "[encoded data removed]",
      "text/plain": [
       "<Figure size 432x288 with 1 Axes>"
      ]
     },
     "metadata": {
      "needs_background": "light"
     },
     "output_type": "display_data"
    },
    {
     "name": "stdout",
     "output_type": "stream",
     "text": [
      "Total Number of Training Examples: \n",
      "370\n",
      "Ratio of oscars in Training Examples: \n",
      "0.5648648648648649\n"
     ]
    }
   ],
   "source": [
    "label = ['train oscar', 'train not oscar']\n",
    "values = [sum(TrainLabel), len(TrainLabel)-sum(TrainLabel)]\n",
    "\n",
    "x = np.arange(2)\n",
    "plt.bar(x, values)\n",
    "plt.xticks(x, label)\n",
    "plt.show()\n",
    "\n",
    "print(\"Total Number of Training Examples: \")\n",
    "print(len(TrainMov))\n",
    "print(\"Ratio of oscars in Training Examples: \")\n",
    "print(sum(TrainLabel)/len(TrainMov))"
   ]
  },
  {
   "cell_type": "code",
   "execution_count": 9,
   "metadata": {},
   "outputs": [
    {
     "data": {
      "image/png": "[encoded data removed]",
      "text/plain": [
       "<Figure size 432x288 with 1 Axes>"
      ]
     },
     "metadata": {
      "needs_background": "light"
     },
     "output_type": "display_data"
    },
    {
     "name": "stdout",
     "output_type": "stream",
     "text": [
      "Total Number of Validation Examples: \n",
      "124\n",
      "Ratio of Spam Mails in Validation Examples: \n",
      "0.49193548387096775\n"
     ]
    }
   ],
   "source": [
    "label = ['val oscar', 'val not oscar']\n",
    "values = [sum(ValLabel), len(ValLabel)-sum(ValLabel)]\n",
    "\n",
    "x = np.arange(2)\n",
    "plt.bar(x, values)\n",
    "plt.xticks(x, label)\n",
    "plt.show()\n",
    "\n",
    "print(\"Total Number of Validation Examples: \")\n",
    "print(len(ValMov))\n",
    "print(\"Ratio of Spam Mails in Validation Examples: \")\n",
    "print(sum(ValLabel)/len(ValMov))"
   ]
  },
  {
   "cell_type": "markdown",
   "metadata": {},
   "source": [
    "### 2. Implementation of Naive Bayes Models"
   ]
  },
  {
   "cell_type": "markdown",
   "metadata": {},
   "source": [
    "##### A. Gaussion Naive Bayes"
   ]
  },
  {
   "cell_type": "code",
   "execution_count": 10,
   "metadata": {},
   "outputs": [],
   "source": [
    "model1 = GaussianNB()\n",
    "model1.fit(TrainMov,TrainLabel)\n",
    "\n",
    "ValPred1 = model1.predict(ValMov)"
   ]
  },
  {
   "cell_type": "markdown",
   "metadata": {},
   "source": [
    "##### B. Multinomial Naive Bayes"
   ]
  },
  {
   "cell_type": "code",
   "execution_count": 11,
   "metadata": {},
   "outputs": [],
   "source": [
    "model2 = MultinomialNB()\n",
    "model2.fit(TrainMov,TrainLabel)\n",
    "\n",
    "ValPred2 = model2.predict(ValMov)"
   ]
  },
  {
   "cell_type": "markdown",
   "metadata": {},
   "source": [
    "### 3. Model Selection\n",
    "- Calculate the following scores for each model\n",
    "    - recall score\n",
    "    - precision score\n",
    "    - accuracy score"
   ]
  },
  {
   "cell_type": "markdown",
   "metadata": {},
   "source": [
    "![confusion_matrix](./confusionMatrix.jpg)"
   ]
  },
  {
   "cell_type": "markdown",
   "metadata": {},
   "source": [
    "##### A. Gaussian Naive Bayes"
   ]
  },
  {
   "cell_type": "code",
   "execution_count": 12,
   "metadata": {},
   "outputs": [
    {
     "name": "stdout",
     "output_type": "stream",
     "text": [
      "[[47 16]\n",
      " [36 25]]\n",
      "F1 score:  0.40476190476190477\n",
      "recall score:  0.2786885245901639\n",
      "precision score:  0.7391304347826086\n",
      "accuracy score:  0.5967741935483871\n"
     ]
    }
   ],
   "source": [
    "label=['oscar', 'nonoscar']\n",
    "print(confusion_matrix(ValLabel, ValPred2))\n",
    "print('F1 score: ', f1_score(ValLabel, ValPred1))\n",
    "print('recall score: ', recall_score(ValLabel, ValPred1))\n",
    "print('precision score: ', precision_score(ValLabel, ValPred1))\n",
    "print('accuracy score: ', accuracy_score(ValLabel, ValPred1))"
   ]
  },
  {
   "cell_type": "markdown",
   "metadata": {},
   "source": [
    "##### B. Multinomial Naive Bayes"
   ]
  },
  {
   "cell_type": "code",
   "execution_count": 13,
   "metadata": {},
   "outputs": [
    {
     "name": "stdout",
     "output_type": "stream",
     "text": [
      "[[47 16]\n",
      " [36 25]]\n",
      "F1 score:  0.4901960784313726\n",
      "recall score:  0.4098360655737705\n",
      "precision score:  0.6097560975609756\n",
      "accuracy score:  0.5806451612903226\n"
     ]
    }
   ],
   "source": [
    "label=['oscar', 'nonoscar']\n",
    "print(confusion_matrix(ValLabel, ValPred2))\n",
    "print('F1 score: ', f1_score(ValLabel, ValPred2))\n",
    "print('recall score: ', recall_score(ValLabel, ValPred2))\n",
    "print('precision score: ', precision_score(ValLabel, ValPred2))\n",
    "print('accuracy score: ', accuracy_score(ValLabel, ValPred2))"
   ]
  }
 ],
 "metadata": {
  "interpreter": {
   "hash": "2ff7240b2f25bd31f933d2f9260530442c3f31a2b2c0d468733786e23bfea520"
  },
  "kernelspec": {
   "display_name": "Python 3",
   "language": "python",
   "name": "python3"
  },
  "language_info": {
   "codemirror_mode": {
    "name": "ipython",
    "version": 3
   },
   "file_extension": ".py",
   "mimetype": "text/x-python",
   "name": "python",
   "nbconvert_exporter": "python",
   "pygments_lexer": "ipython3",
   "version": "3.8.12"
  }
 },
 "nbformat": 4,
 "nbformat_minor": 2
}
